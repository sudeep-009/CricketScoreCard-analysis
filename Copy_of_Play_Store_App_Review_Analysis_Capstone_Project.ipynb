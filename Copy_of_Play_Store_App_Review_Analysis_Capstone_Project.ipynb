{
  "nbformat": 4,
  "nbformat_minor": 0,
  "metadata": {
    "kernelspec": {
      "display_name": "Python 3",
      "language": "python",
      "name": "python3"
    },
    "language_info": {
      "codemirror_mode": {
        "name": "ipython",
        "version": 3
      },
      "file_extension": ".py",
      "mimetype": "text/x-python",
      "name": "python",
      "nbconvert_exporter": "python",
      "pygments_lexer": "ipython3",
      "version": "3.6.6"
    },
    "colab": {
      "name": "Copy of Play Store App Review Analysis - Capstone Project.ipynb",
      "provenance": [],
      "collapsed_sections": [],
      "include_colab_link": true
    }
  },
  "cells": [
    {
      "cell_type": "markdown",
      "metadata": {
        "id": "view-in-github",
        "colab_type": "text"
      },
      "source": [
        "<a href=\"https://colab.research.google.com/github/sudeep-009/CricketScoreCard-analysis/blob/main/Copy_of_Play_Store_App_Review_Analysis_Capstone_Project.ipynb\" target=\"_parent\"><img src=\"https://colab.research.google.com/assets/colab-badge.svg\" alt=\"Open In Colab\"/></a>"
      ]
    },
    {
      "cell_type": "markdown",
      "metadata": {
        "id": "Y06xIdG26kRF"
      },
      "source": [
        "## <b> The Play Store apps data has enormous potential to drive app-making businesses to success. Actionable insights can be drawn for developers to work on and capture the Android market. </b>\n",
        "\n",
        "## <b> Each app (row) has values for catergory, rating, size, and more. Another dataset contains customer reviews of the android apps.</b>\n",
        "\n",
        "## <b> Explore and analyze the data to discover key factors responsible for app engagement and success. </b>"
      ]
    },
    {
      "cell_type": "markdown",
      "source": [
        "#**Introduction**\n",
        "![Untitled-66.png](data:image/png;base64,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)\n",
        "\n",
        "\n",
        "\n",
        "\n",
        "\n",
        "\n",
        "There is famous phrase which tell us that ***Data is the new oil of 21st century.***Business growth involves garnering as many customers as you can. This requires knowing exactly what customers desire and what channels they use to find products and services.In today cut-throat competation taking business decision based on gut-feel could have negative impact. Therefore utilizing the potential of value store beneath the mountain of data would be very effective.     \n",
        "     In the PlayStore App data analysis we generally tried to find some of the actionalble insight that would help our app developers to develop an app that would have huge customer base based on their previous experience. Digging out the value from data which would help the app making business to grow at huge volume is the main objective of this data analysis\n",
        "   "
      ],
      "metadata": {
        "id": "-yNVFTNRhkBx"
      }
    },
    {
      "cell_type": "markdown",
      "source": [
        "#**Exploratory Data Analysis**\n",
        "Before starting we should first understand what actually Exploratory Data Analysis is ?\n",
        "Exploratory Data Analysis refers to the critical process of performing initial investigations on data so as to discover patterns,to spot anomalies,to test hypothesis and to check assumptions with the help of summary statistics and graphical representations.It is a good practice to understand the data first and try to gather as many insights from it. EDA is all about making sense of data in hand,before getting them dirty with it.\n",
        "As we have understand what EDA actually is lets start our fun journey of playing around with the dataset."
      ],
      "metadata": {
        "id": "sIgRBimenggB"
      }
    },
    {
      "cell_type": "markdown",
      "source": [
        "#**Lets Start Our Journey!!!**"
      ],
      "metadata": {
        "id": "7ealMQHYqqkf"
      }
    },
    {
      "cell_type": "code",
      "metadata": {
        "id": "dByMsuzT8Tnw",
        "colab": {
          "base_uri": "https://localhost:8080/",
          "height": 17
        },
        "outputId": "ef4b0fc9-3436-420e-9ed2-67664fe0071b"
      },
      "source": [
        "import pandas as pd\n",
        "import numpy as np\n",
        "import matplotlib as mpl\n",
        "mpl.style.use('ggplot') #to have ggplot like style\n",
        "import matplotlib.pyplot as plt\n",
        "%matplotlib inline\n",
        "import seaborn as sns\n",
        "color = sns.color_palette()\n",
        "import plotly\n",
        "plotly.offline.init_notebook_mode(connected=True)\n",
        "import plotly.graph_objs as go\n",
        "import plotly.express as px\n",
        "import plotly.figure_factory as ff\n",
        "\n",
        "import warnings\n",
        "warnings.filterwarnings('ignore')"
      ],
      "execution_count": 3,
      "outputs": [
        {
          "output_type": "display_data",
          "data": {
            "text/html": [
              "        <script type=\"text/javascript\">\n",
              "        window.PlotlyConfig = {MathJaxConfig: 'local'};\n",
              "        if (window.MathJax) {MathJax.Hub.Config({SVG: {font: \"STIX-Web\"}});}\n",
              "        if (typeof require !== 'undefined') {\n",
              "        require.undef(\"plotly\");\n",
              "        requirejs.config({\n",
              "            paths: {\n",
              "                'plotly': ['https://cdn.plot.ly/plotly-latest.min']\n",
              "            }\n",
              "        });\n",
              "        require(['plotly'], function(Plotly) {\n",
              "            window._Plotly = Plotly;\n",
              "        });\n",
              "        }\n",
              "        </script>\n",
              "        "
            ]
          },
          "metadata": {}
        }
      ]
    },
    {
      "cell_type": "code",
      "source": [
        "from google.colab import drive\n",
        "drive.mount('/content/drive')"
      ],
      "metadata": {
        "colab": {
          "base_uri": "https://localhost:8080/"
        },
        "id": "vy7kFMPq9THG",
        "outputId": "9ebabc7b-0fb8-49c6-db34-953f8369dc0c"
      },
      "execution_count": 4,
      "outputs": [
        {
          "output_type": "stream",
          "name": "stdout",
          "text": [
            "Mounted at /content/drive\n"
          ]
        }
      ]
    },
    {
      "cell_type": "markdown",
      "source": [
        "First we will import our datasets and convert it into pandas DataFrame.We have been given two datasets one for the PlayStore App and another for the user review. Lets go through it one by one. First we will explore the app dataset and then we will go through the userview dataset."
      ],
      "metadata": {
        "id": "n9PEIKd45e_M"
      }
    },
    {
      "cell_type": "code",
      "source": [
        "working_directory = '/content/drive/MyDrive/Colab Notebooks/AlmaBetter/Capstone Projects/EDA-Capstone-Play Store App Review'\n",
        "app_df = pd.read_csv(working_directory+'/Play Store Data.csv')\n",
        "user_review_df = pd.read_csv(working_directory+'/User Reviews.csv')"
      ],
      "metadata": {
        "id": "qmAnazXw90VN"
      },
      "execution_count": 5,
      "outputs": []
    },
    {
      "cell_type": "markdown",
      "source": [
        "##**First we will go through our App Dataset**"
      ],
      "metadata": {
        "id": "ojTZx42EPv_3"
      }
    },
    {
      "cell_type": "markdown",
      "source": [
        "Let see the first five record of our dataset so as to have some basic idea of what actually we have."
      ],
      "metadata": {
        "id": "UE3wNs1C5xNl"
      }
    },
    {
      "cell_type": "code",
      "source": [
        "app_df.head()"
      ],
      "metadata": {
        "colab": {
          "base_uri": "https://localhost:8080/",
          "height": 354
        },
        "id": "1VoTSanj-sl-",
        "outputId": "d370ded9-54e7-4f20-912e-aaa88193d746"
      },
      "execution_count": 6,
      "outputs": [
        {
          "output_type": "execute_result",
          "data": {
            "text/html": [
              "\n",
              "  <div id=\"df-84f83c9d-731f-4043-a7f1-a41fc448051c\">\n",
              "    <div class=\"colab-df-container\">\n",
              "      <div>\n",
              "<style scoped>\n",
              "    .dataframe tbody tr th:only-of-type {\n",
              "        vertical-align: middle;\n",
              "    }\n",
              "\n",
              "    .dataframe tbody tr th {\n",
              "        vertical-align: top;\n",
              "    }\n",
              "\n",
              "    .dataframe thead th {\n",
              "        text-align: right;\n",
              "    }\n",
              "</style>\n",
              "<table border=\"1\" class=\"dataframe\">\n",
              "  <thead>\n",
              "    <tr style=\"text-align: right;\">\n",
              "      <th></th>\n",
              "      <th>App</th>\n",
              "      <th>Category</th>\n",
              "      <th>Rating</th>\n",
              "      <th>Reviews</th>\n",
              "      <th>Size</th>\n",
              "      <th>Installs</th>\n",
              "      <th>Type</th>\n",
              "      <th>Price</th>\n",
              "      <th>Content Rating</th>\n",
              "      <th>Genres</th>\n",
              "      <th>Last Updated</th>\n",
              "      <th>Current Ver</th>\n",
              "      <th>Android Ver</th>\n",
              "    </tr>\n",
              "  </thead>\n",
              "  <tbody>\n",
              "    <tr>\n",
              "      <th>0</th>\n",
              "      <td>Photo Editor &amp; Candy Camera &amp; Grid &amp; ScrapBook</td>\n",
              "      <td>ART_AND_DESIGN</td>\n",
              "      <td>4.1</td>\n",
              "      <td>159</td>\n",
              "      <td>19M</td>\n",
              "      <td>10,000+</td>\n",
              "      <td>Free</td>\n",
              "      <td>0</td>\n",
              "      <td>Everyone</td>\n",
              "      <td>Art &amp; Design</td>\n",
              "      <td>January 7, 2018</td>\n",
              "      <td>1.0.0</td>\n",
              "      <td>4.0.3 and up</td>\n",
              "    </tr>\n",
              "    <tr>\n",
              "      <th>1</th>\n",
              "      <td>Coloring book moana</td>\n",
              "      <td>ART_AND_DESIGN</td>\n",
              "      <td>3.9</td>\n",
              "      <td>967</td>\n",
              "      <td>14M</td>\n",
              "      <td>500,000+</td>\n",
              "      <td>Free</td>\n",
              "      <td>0</td>\n",
              "      <td>Everyone</td>\n",
              "      <td>Art &amp; Design;Pretend Play</td>\n",
              "      <td>January 15, 2018</td>\n",
              "      <td>2.0.0</td>\n",
              "      <td>4.0.3 and up</td>\n",
              "    </tr>\n",
              "    <tr>\n",
              "      <th>2</th>\n",
              "      <td>U Launcher Lite – FREE Live Cool Themes, Hide ...</td>\n",
              "      <td>ART_AND_DESIGN</td>\n",
              "      <td>4.7</td>\n",
              "      <td>87510</td>\n",
              "      <td>8.7M</td>\n",
              "      <td>5,000,000+</td>\n",
              "      <td>Free</td>\n",
              "      <td>0</td>\n",
              "      <td>Everyone</td>\n",
              "      <td>Art &amp; Design</td>\n",
              "      <td>August 1, 2018</td>\n",
              "      <td>1.2.4</td>\n",
              "      <td>4.0.3 and up</td>\n",
              "    </tr>\n",
              "    <tr>\n",
              "      <th>3</th>\n",
              "      <td>Sketch - Draw &amp; Paint</td>\n",
              "      <td>ART_AND_DESIGN</td>\n",
              "      <td>4.5</td>\n",
              "      <td>215644</td>\n",
              "      <td>25M</td>\n",
              "      <td>50,000,000+</td>\n",
              "      <td>Free</td>\n",
              "      <td>0</td>\n",
              "      <td>Teen</td>\n",
              "      <td>Art &amp; Design</td>\n",
              "      <td>June 8, 2018</td>\n",
              "      <td>Varies with device</td>\n",
              "      <td>4.2 and up</td>\n",
              "    </tr>\n",
              "    <tr>\n",
              "      <th>4</th>\n",
              "      <td>Pixel Draw - Number Art Coloring Book</td>\n",
              "      <td>ART_AND_DESIGN</td>\n",
              "      <td>4.3</td>\n",
              "      <td>967</td>\n",
              "      <td>2.8M</td>\n",
              "      <td>100,000+</td>\n",
              "      <td>Free</td>\n",
              "      <td>0</td>\n",
              "      <td>Everyone</td>\n",
              "      <td>Art &amp; Design;Creativity</td>\n",
              "      <td>June 20, 2018</td>\n",
              "      <td>1.1</td>\n",
              "      <td>4.4 and up</td>\n",
              "    </tr>\n",
              "  </tbody>\n",
              "</table>\n",
              "</div>\n",
              "      <button class=\"colab-df-convert\" onclick=\"convertToInteractive('df-84f83c9d-731f-4043-a7f1-a41fc448051c')\"\n",
              "              title=\"Convert this dataframe to an interactive table.\"\n",
              "              style=\"display:none;\">\n",
              "        \n",
              "  <svg xmlns=\"http://www.w3.org/2000/svg\" height=\"24px\"viewBox=\"0 0 24 24\"\n",
              "       width=\"24px\">\n",
              "    <path d=\"M0 0h24v24H0V0z\" fill=\"none\"/>\n",
              "    <path d=\"M18.56 5.44l.94 2.06.94-2.06 2.06-.94-2.06-.94-.94-2.06-.94 2.06-2.06.94zm-11 1L8.5 8.5l.94-2.06 2.06-.94-2.06-.94L8.5 2.5l-.94 2.06-2.06.94zm10 10l.94 2.06.94-2.06 2.06-.94-2.06-.94-.94-2.06-.94 2.06-2.06.94z\"/><path d=\"M17.41 7.96l-1.37-1.37c-.4-.4-.92-.59-1.43-.59-.52 0-1.04.2-1.43.59L10.3 9.45l-7.72 7.72c-.78.78-.78 2.05 0 2.83L4 21.41c.39.39.9.59 1.41.59.51 0 1.02-.2 1.41-.59l7.78-7.78 2.81-2.81c.8-.78.8-2.07 0-2.86zM5.41 20L4 18.59l7.72-7.72 1.47 1.35L5.41 20z\"/>\n",
              "  </svg>\n",
              "      </button>\n",
              "      \n",
              "  <style>\n",
              "    .colab-df-container {\n",
              "      display:flex;\n",
              "      flex-wrap:wrap;\n",
              "      gap: 12px;\n",
              "    }\n",
              "\n",
              "    .colab-df-convert {\n",
              "      background-color: #E8F0FE;\n",
              "      border: none;\n",
              "      border-radius: 50%;\n",
              "      cursor: pointer;\n",
              "      display: none;\n",
              "      fill: #1967D2;\n",
              "      height: 32px;\n",
              "      padding: 0 0 0 0;\n",
              "      width: 32px;\n",
              "    }\n",
              "\n",
              "    .colab-df-convert:hover {\n",
              "      background-color: #E2EBFA;\n",
              "      box-shadow: 0px 1px 2px rgba(60, 64, 67, 0.3), 0px 1px 3px 1px rgba(60, 64, 67, 0.15);\n",
              "      fill: #174EA6;\n",
              "    }\n",
              "\n",
              "    [theme=dark] .colab-df-convert {\n",
              "      background-color: #3B4455;\n",
              "      fill: #D2E3FC;\n",
              "    }\n",
              "\n",
              "    [theme=dark] .colab-df-convert:hover {\n",
              "      background-color: #434B5C;\n",
              "      box-shadow: 0px 1px 3px 1px rgba(0, 0, 0, 0.15);\n",
              "      filter: drop-shadow(0px 1px 2px rgba(0, 0, 0, 0.3));\n",
              "      fill: #FFFFFF;\n",
              "    }\n",
              "  </style>\n",
              "\n",
              "      <script>\n",
              "        const buttonEl =\n",
              "          document.querySelector('#df-84f83c9d-731f-4043-a7f1-a41fc448051c button.colab-df-convert');\n",
              "        buttonEl.style.display =\n",
              "          google.colab.kernel.accessAllowed ? 'block' : 'none';\n",
              "\n",
              "        async function convertToInteractive(key) {\n",
              "          const element = document.querySelector('#df-84f83c9d-731f-4043-a7f1-a41fc448051c');\n",
              "          const dataTable =\n",
              "            await google.colab.kernel.invokeFunction('convertToInteractive',\n",
              "                                                     [key], {});\n",
              "          if (!dataTable) return;\n",
              "\n",
              "          const docLinkHtml = 'Like what you see? Visit the ' +\n",
              "            '<a target=\"_blank\" href=https://colab.research.google.com/notebooks/data_table.ipynb>data table notebook</a>'\n",
              "            + ' to learn more about interactive tables.';\n",
              "          element.innerHTML = '';\n",
              "          dataTable['output_type'] = 'display_data';\n",
              "          await google.colab.output.renderOutput(dataTable, element);\n",
              "          const docLink = document.createElement('div');\n",
              "          docLink.innerHTML = docLinkHtml;\n",
              "          element.appendChild(docLink);\n",
              "        }\n",
              "      </script>\n",
              "    </div>\n",
              "  </div>\n",
              "  "
            ],
            "text/plain": [
              "                                                 App  ...   Android Ver\n",
              "0     Photo Editor & Candy Camera & Grid & ScrapBook  ...  4.0.3 and up\n",
              "1                                Coloring book moana  ...  4.0.3 and up\n",
              "2  U Launcher Lite – FREE Live Cool Themes, Hide ...  ...  4.0.3 and up\n",
              "3                              Sketch - Draw & Paint  ...    4.2 and up\n",
              "4              Pixel Draw - Number Art Coloring Book  ...    4.4 and up\n",
              "\n",
              "[5 rows x 13 columns]"
            ]
          },
          "metadata": {},
          "execution_count": 6
        }
      ]
    },
    {
      "cell_type": "markdown",
      "source": [
        "**Let See how many records we have in our app dataset and the number of features for each record**"
      ],
      "metadata": {
        "id": "uNE3KLKM7lGs"
      }
    },
    {
      "cell_type": "code",
      "source": [
        "print(f'No. of records present in our dataset: {app_df.shape[0]}')\n",
        "print(f'No. of features each record have is: {app_df.shape[1]}')"
      ],
      "metadata": {
        "colab": {
          "base_uri": "https://localhost:8080/"
        },
        "id": "CCkEetFy7h52",
        "outputId": "63b1e8bb-165c-43cd-f47a-e09d57a61688"
      },
      "execution_count": 7,
      "outputs": [
        {
          "output_type": "stream",
          "name": "stdout",
          "text": [
            "No. of records present in our dataset: 10841\n",
            "No. of features each record have is: 13\n"
          ]
        }
      ]
    },
    {
      "cell_type": "markdown",
      "source": [
        "**Lets go through the each of the features present in our app dataset**"
      ],
      "metadata": {
        "id": "DcI1MfDT85jr"
      }
    },
    {
      "cell_type": "code",
      "source": [
        "app_df.info()"
      ],
      "metadata": {
        "colab": {
          "base_uri": "https://localhost:8080/"
        },
        "id": "m7ek9uf49C79",
        "outputId": "ecc71e01-d92b-4a54-b8ce-067c6e2ccbfb"
      },
      "execution_count": 8,
      "outputs": [
        {
          "output_type": "stream",
          "name": "stdout",
          "text": [
            "<class 'pandas.core.frame.DataFrame'>\n",
            "RangeIndex: 10841 entries, 0 to 10840\n",
            "Data columns (total 13 columns):\n",
            " #   Column          Non-Null Count  Dtype  \n",
            "---  ------          --------------  -----  \n",
            " 0   App             10841 non-null  object \n",
            " 1   Category        10841 non-null  object \n",
            " 2   Rating          9367 non-null   float64\n",
            " 3   Reviews         10841 non-null  object \n",
            " 4   Size            10841 non-null  object \n",
            " 5   Installs        10841 non-null  object \n",
            " 6   Type            10840 non-null  object \n",
            " 7   Price           10841 non-null  object \n",
            " 8   Content Rating  10840 non-null  object \n",
            " 9   Genres          10841 non-null  object \n",
            " 10  Last Updated    10841 non-null  object \n",
            " 11  Current Ver     10833 non-null  object \n",
            " 12  Android Ver     10838 non-null  object \n",
            "dtypes: float64(1), object(12)\n",
            "memory usage: 1.1+ MB\n"
          ]
        }
      ]
    },
    {
      "cell_type": "markdown",
      "source": [
        "Features present in our App dataset are as follows:\n",
        "\n",
        "*   App: Name of the App.\n",
        "*   App Category: Category of the app. This could be beauty, business, entertainment, education...etc.\n",
        "\n",
        "*   Rating: How users rate the app out of 5, with 1 being the lowest rating and 5 being the highest.\n",
        "\n",
        "*   Reviews: The number of user reviews each app has received.\n",
        "\n",
        "*   Size: The memory size needed to install the application.\n",
        "\n",
        "*   Installs: The number of times each application has been installed by users.\n",
        "\n",
        "*   Type: Whether the app is free or a paid app.\n",
        "\n",
        "*   Price: The price of the app.\n",
        "\n",
        "*   Content Rating: This column specifies the intended audience for the app. Can be for teens, mature audience, or everyone.\n",
        "\n",
        "*   Genres: The sub-category for each app. Example: for the Education category, this could be Education: Pretend Play, for example.\n",
        "\n",
        "*   Last Updated: Release date of the most recent update for the app.\n",
        "\n",
        "*   Current Ver: The app's current version.\n",
        "\n",
        "*   Android Ver: The oldest version of Android OS supported by the app.\n",
        "\n",
        "\n"
      ],
      "metadata": {
        "id": "FuQurXAr9oIr"
      }
    },
    {
      "cell_type": "code",
      "source": [
        "def PS_info():\n",
        "  info = pd.DataFrame(index=app_df.columns)\n",
        "  info['dtype'] = app_df.dtypes\n",
        "  info['Unique'] = app_df.nunique()\n",
        "  info['Num_ofNullValues'] = app_df.isnull().sum()\n",
        "  info['Num_nonNullValues'] = app_df.count()\n",
        "  info['percent_ofNullValues'] = info['Num_ofNullValues']/len(app_df) * 100\n",
        "  return info\n",
        "\n",
        "PS_info()"
      ],
      "metadata": {
        "colab": {
          "base_uri": "https://localhost:8080/",
          "height": 457
        },
        "id": "d5Bhn1lpHFPd",
        "outputId": "0c69b596-d4b5-4355-d174-0e7e7be8cd73"
      },
      "execution_count": 9,
      "outputs": [
        {
          "output_type": "execute_result",
          "data": {
            "text/html": [
              "\n",
              "  <div id=\"df-9c5f796a-a970-488f-bf2e-c2d20b2fac28\">\n",
              "    <div class=\"colab-df-container\">\n",
              "      <div>\n",
              "<style scoped>\n",
              "    .dataframe tbody tr th:only-of-type {\n",
              "        vertical-align: middle;\n",
              "    }\n",
              "\n",
              "    .dataframe tbody tr th {\n",
              "        vertical-align: top;\n",
              "    }\n",
              "\n",
              "    .dataframe thead th {\n",
              "        text-align: right;\n",
              "    }\n",
              "</style>\n",
              "<table border=\"1\" class=\"dataframe\">\n",
              "  <thead>\n",
              "    <tr style=\"text-align: right;\">\n",
              "      <th></th>\n",
              "      <th>dtype</th>\n",
              "      <th>Unique</th>\n",
              "      <th>Num_ofNullValues</th>\n",
              "      <th>Num_nonNullValues</th>\n",
              "      <th>percent_ofNullValues</th>\n",
              "    </tr>\n",
              "  </thead>\n",
              "  <tbody>\n",
              "    <tr>\n",
              "      <th>App</th>\n",
              "      <td>object</td>\n",
              "      <td>9660</td>\n",
              "      <td>0</td>\n",
              "      <td>10841</td>\n",
              "      <td>0.000000</td>\n",
              "    </tr>\n",
              "    <tr>\n",
              "      <th>Category</th>\n",
              "      <td>object</td>\n",
              "      <td>34</td>\n",
              "      <td>0</td>\n",
              "      <td>10841</td>\n",
              "      <td>0.000000</td>\n",
              "    </tr>\n",
              "    <tr>\n",
              "      <th>Rating</th>\n",
              "      <td>float64</td>\n",
              "      <td>40</td>\n",
              "      <td>1474</td>\n",
              "      <td>9367</td>\n",
              "      <td>13.596532</td>\n",
              "    </tr>\n",
              "    <tr>\n",
              "      <th>Reviews</th>\n",
              "      <td>object</td>\n",
              "      <td>6002</td>\n",
              "      <td>0</td>\n",
              "      <td>10841</td>\n",
              "      <td>0.000000</td>\n",
              "    </tr>\n",
              "    <tr>\n",
              "      <th>Size</th>\n",
              "      <td>object</td>\n",
              "      <td>462</td>\n",
              "      <td>0</td>\n",
              "      <td>10841</td>\n",
              "      <td>0.000000</td>\n",
              "    </tr>\n",
              "    <tr>\n",
              "      <th>Installs</th>\n",
              "      <td>object</td>\n",
              "      <td>22</td>\n",
              "      <td>0</td>\n",
              "      <td>10841</td>\n",
              "      <td>0.000000</td>\n",
              "    </tr>\n",
              "    <tr>\n",
              "      <th>Type</th>\n",
              "      <td>object</td>\n",
              "      <td>3</td>\n",
              "      <td>1</td>\n",
              "      <td>10840</td>\n",
              "      <td>0.009224</td>\n",
              "    </tr>\n",
              "    <tr>\n",
              "      <th>Price</th>\n",
              "      <td>object</td>\n",
              "      <td>93</td>\n",
              "      <td>0</td>\n",
              "      <td>10841</td>\n",
              "      <td>0.000000</td>\n",
              "    </tr>\n",
              "    <tr>\n",
              "      <th>Content Rating</th>\n",
              "      <td>object</td>\n",
              "      <td>6</td>\n",
              "      <td>1</td>\n",
              "      <td>10840</td>\n",
              "      <td>0.009224</td>\n",
              "    </tr>\n",
              "    <tr>\n",
              "      <th>Genres</th>\n",
              "      <td>object</td>\n",
              "      <td>120</td>\n",
              "      <td>0</td>\n",
              "      <td>10841</td>\n",
              "      <td>0.000000</td>\n",
              "    </tr>\n",
              "    <tr>\n",
              "      <th>Last Updated</th>\n",
              "      <td>object</td>\n",
              "      <td>1378</td>\n",
              "      <td>0</td>\n",
              "      <td>10841</td>\n",
              "      <td>0.000000</td>\n",
              "    </tr>\n",
              "    <tr>\n",
              "      <th>Current Ver</th>\n",
              "      <td>object</td>\n",
              "      <td>2832</td>\n",
              "      <td>8</td>\n",
              "      <td>10833</td>\n",
              "      <td>0.073794</td>\n",
              "    </tr>\n",
              "    <tr>\n",
              "      <th>Android Ver</th>\n",
              "      <td>object</td>\n",
              "      <td>33</td>\n",
              "      <td>3</td>\n",
              "      <td>10838</td>\n",
              "      <td>0.027673</td>\n",
              "    </tr>\n",
              "  </tbody>\n",
              "</table>\n",
              "</div>\n",
              "      <button class=\"colab-df-convert\" onclick=\"convertToInteractive('df-9c5f796a-a970-488f-bf2e-c2d20b2fac28')\"\n",
              "              title=\"Convert this dataframe to an interactive table.\"\n",
              "              style=\"display:none;\">\n",
              "        \n",
              "  <svg xmlns=\"http://www.w3.org/2000/svg\" height=\"24px\"viewBox=\"0 0 24 24\"\n",
              "       width=\"24px\">\n",
              "    <path d=\"M0 0h24v24H0V0z\" fill=\"none\"/>\n",
              "    <path d=\"M18.56 5.44l.94 2.06.94-2.06 2.06-.94-2.06-.94-.94-2.06-.94 2.06-2.06.94zm-11 1L8.5 8.5l.94-2.06 2.06-.94-2.06-.94L8.5 2.5l-.94 2.06-2.06.94zm10 10l.94 2.06.94-2.06 2.06-.94-2.06-.94-.94-2.06-.94 2.06-2.06.94z\"/><path d=\"M17.41 7.96l-1.37-1.37c-.4-.4-.92-.59-1.43-.59-.52 0-1.04.2-1.43.59L10.3 9.45l-7.72 7.72c-.78.78-.78 2.05 0 2.83L4 21.41c.39.39.9.59 1.41.59.51 0 1.02-.2 1.41-.59l7.78-7.78 2.81-2.81c.8-.78.8-2.07 0-2.86zM5.41 20L4 18.59l7.72-7.72 1.47 1.35L5.41 20z\"/>\n",
              "  </svg>\n",
              "      </button>\n",
              "      \n",
              "  <style>\n",
              "    .colab-df-container {\n",
              "      display:flex;\n",
              "      flex-wrap:wrap;\n",
              "      gap: 12px;\n",
              "    }\n",
              "\n",
              "    .colab-df-convert {\n",
              "      background-color: #E8F0FE;\n",
              "      border: none;\n",
              "      border-radius: 50%;\n",
              "      cursor: pointer;\n",
              "      display: none;\n",
              "      fill: #1967D2;\n",
              "      height: 32px;\n",
              "      padding: 0 0 0 0;\n",
              "      width: 32px;\n",
              "    }\n",
              "\n",
              "    .colab-df-convert:hover {\n",
              "      background-color: #E2EBFA;\n",
              "      box-shadow: 0px 1px 2px rgba(60, 64, 67, 0.3), 0px 1px 3px 1px rgba(60, 64, 67, 0.15);\n",
              "      fill: #174EA6;\n",
              "    }\n",
              "\n",
              "    [theme=dark] .colab-df-convert {\n",
              "      background-color: #3B4455;\n",
              "      fill: #D2E3FC;\n",
              "    }\n",
              "\n",
              "    [theme=dark] .colab-df-convert:hover {\n",
              "      background-color: #434B5C;\n",
              "      box-shadow: 0px 1px 3px 1px rgba(0, 0, 0, 0.15);\n",
              "      filter: drop-shadow(0px 1px 2px rgba(0, 0, 0, 0.3));\n",
              "      fill: #FFFFFF;\n",
              "    }\n",
              "  </style>\n",
              "\n",
              "      <script>\n",
              "        const buttonEl =\n",
              "          document.querySelector('#df-9c5f796a-a970-488f-bf2e-c2d20b2fac28 button.colab-df-convert');\n",
              "        buttonEl.style.display =\n",
              "          google.colab.kernel.accessAllowed ? 'block' : 'none';\n",
              "\n",
              "        async function convertToInteractive(key) {\n",
              "          const element = document.querySelector('#df-9c5f796a-a970-488f-bf2e-c2d20b2fac28');\n",
              "          const dataTable =\n",
              "            await google.colab.kernel.invokeFunction('convertToInteractive',\n",
              "                                                     [key], {});\n",
              "          if (!dataTable) return;\n",
              "\n",
              "          const docLinkHtml = 'Like what you see? Visit the ' +\n",
              "            '<a target=\"_blank\" href=https://colab.research.google.com/notebooks/data_table.ipynb>data table notebook</a>'\n",
              "            + ' to learn more about interactive tables.';\n",
              "          element.innerHTML = '';\n",
              "          dataTable['output_type'] = 'display_data';\n",
              "          await google.colab.output.renderOutput(dataTable, element);\n",
              "          const docLink = document.createElement('div');\n",
              "          docLink.innerHTML = docLinkHtml;\n",
              "          element.appendChild(docLink);\n",
              "        }\n",
              "      </script>\n",
              "    </div>\n",
              "  </div>\n",
              "  "
            ],
            "text/plain": [
              "                  dtype  Unique  ...  Num_nonNullValues  percent_ofNullValues\n",
              "App              object    9660  ...              10841              0.000000\n",
              "Category         object      34  ...              10841              0.000000\n",
              "Rating          float64      40  ...               9367             13.596532\n",
              "Reviews          object    6002  ...              10841              0.000000\n",
              "Size             object     462  ...              10841              0.000000\n",
              "Installs         object      22  ...              10841              0.000000\n",
              "Type             object       3  ...              10840              0.009224\n",
              "Price            object      93  ...              10841              0.000000\n",
              "Content Rating   object       6  ...              10840              0.009224\n",
              "Genres           object     120  ...              10841              0.000000\n",
              "Last Updated     object    1378  ...              10841              0.000000\n",
              "Current Ver      object    2832  ...              10833              0.073794\n",
              "Android Ver      object      33  ...              10838              0.027673\n",
              "\n",
              "[13 rows x 5 columns]"
            ]
          },
          "metadata": {},
          "execution_count": 9
        }
      ]
    },
    {
      "cell_type": "markdown",
      "source": [
        "# **Lets go through the User Review dataset!!!**"
      ],
      "metadata": {
        "id": "_gjhiH-uM5ge"
      }
    },
    {
      "cell_type": "code",
      "source": [
        "user_review_df.head()"
      ],
      "metadata": {
        "colab": {
          "base_uri": "https://localhost:8080/",
          "height": 206
        },
        "id": "H2OUXFFfNF-f",
        "outputId": "34b171eb-a80f-4044-aa07-5166b7ccef27"
      },
      "execution_count": 10,
      "outputs": [
        {
          "output_type": "execute_result",
          "data": {
            "text/html": [
              "\n",
              "  <div id=\"df-7bf2d3b6-bf24-4cca-ba38-276c2687c481\">\n",
              "    <div class=\"colab-df-container\">\n",
              "      <div>\n",
              "<style scoped>\n",
              "    .dataframe tbody tr th:only-of-type {\n",
              "        vertical-align: middle;\n",
              "    }\n",
              "\n",
              "    .dataframe tbody tr th {\n",
              "        vertical-align: top;\n",
              "    }\n",
              "\n",
              "    .dataframe thead th {\n",
              "        text-align: right;\n",
              "    }\n",
              "</style>\n",
              "<table border=\"1\" class=\"dataframe\">\n",
              "  <thead>\n",
              "    <tr style=\"text-align: right;\">\n",
              "      <th></th>\n",
              "      <th>App</th>\n",
              "      <th>Translated_Review</th>\n",
              "      <th>Sentiment</th>\n",
              "      <th>Sentiment_Polarity</th>\n",
              "      <th>Sentiment_Subjectivity</th>\n",
              "    </tr>\n",
              "  </thead>\n",
              "  <tbody>\n",
              "    <tr>\n",
              "      <th>0</th>\n",
              "      <td>10 Best Foods for You</td>\n",
              "      <td>I like eat delicious food. That's I'm cooking ...</td>\n",
              "      <td>Positive</td>\n",
              "      <td>1.00</td>\n",
              "      <td>0.533333</td>\n",
              "    </tr>\n",
              "    <tr>\n",
              "      <th>1</th>\n",
              "      <td>10 Best Foods for You</td>\n",
              "      <td>This help eating healthy exercise regular basis</td>\n",
              "      <td>Positive</td>\n",
              "      <td>0.25</td>\n",
              "      <td>0.288462</td>\n",
              "    </tr>\n",
              "    <tr>\n",
              "      <th>2</th>\n",
              "      <td>10 Best Foods for You</td>\n",
              "      <td>NaN</td>\n",
              "      <td>NaN</td>\n",
              "      <td>NaN</td>\n",
              "      <td>NaN</td>\n",
              "    </tr>\n",
              "    <tr>\n",
              "      <th>3</th>\n",
              "      <td>10 Best Foods for You</td>\n",
              "      <td>Works great especially going grocery store</td>\n",
              "      <td>Positive</td>\n",
              "      <td>0.40</td>\n",
              "      <td>0.875000</td>\n",
              "    </tr>\n",
              "    <tr>\n",
              "      <th>4</th>\n",
              "      <td>10 Best Foods for You</td>\n",
              "      <td>Best idea us</td>\n",
              "      <td>Positive</td>\n",
              "      <td>1.00</td>\n",
              "      <td>0.300000</td>\n",
              "    </tr>\n",
              "  </tbody>\n",
              "</table>\n",
              "</div>\n",
              "      <button class=\"colab-df-convert\" onclick=\"convertToInteractive('df-7bf2d3b6-bf24-4cca-ba38-276c2687c481')\"\n",
              "              title=\"Convert this dataframe to an interactive table.\"\n",
              "              style=\"display:none;\">\n",
              "        \n",
              "  <svg xmlns=\"http://www.w3.org/2000/svg\" height=\"24px\"viewBox=\"0 0 24 24\"\n",
              "       width=\"24px\">\n",
              "    <path d=\"M0 0h24v24H0V0z\" fill=\"none\"/>\n",
              "    <path d=\"M18.56 5.44l.94 2.06.94-2.06 2.06-.94-2.06-.94-.94-2.06-.94 2.06-2.06.94zm-11 1L8.5 8.5l.94-2.06 2.06-.94-2.06-.94L8.5 2.5l-.94 2.06-2.06.94zm10 10l.94 2.06.94-2.06 2.06-.94-2.06-.94-.94-2.06-.94 2.06-2.06.94z\"/><path d=\"M17.41 7.96l-1.37-1.37c-.4-.4-.92-.59-1.43-.59-.52 0-1.04.2-1.43.59L10.3 9.45l-7.72 7.72c-.78.78-.78 2.05 0 2.83L4 21.41c.39.39.9.59 1.41.59.51 0 1.02-.2 1.41-.59l7.78-7.78 2.81-2.81c.8-.78.8-2.07 0-2.86zM5.41 20L4 18.59l7.72-7.72 1.47 1.35L5.41 20z\"/>\n",
              "  </svg>\n",
              "      </button>\n",
              "      \n",
              "  <style>\n",
              "    .colab-df-container {\n",
              "      display:flex;\n",
              "      flex-wrap:wrap;\n",
              "      gap: 12px;\n",
              "    }\n",
              "\n",
              "    .colab-df-convert {\n",
              "      background-color: #E8F0FE;\n",
              "      border: none;\n",
              "      border-radius: 50%;\n",
              "      cursor: pointer;\n",
              "      display: none;\n",
              "      fill: #1967D2;\n",
              "      height: 32px;\n",
              "      padding: 0 0 0 0;\n",
              "      width: 32px;\n",
              "    }\n",
              "\n",
              "    .colab-df-convert:hover {\n",
              "      background-color: #E2EBFA;\n",
              "      box-shadow: 0px 1px 2px rgba(60, 64, 67, 0.3), 0px 1px 3px 1px rgba(60, 64, 67, 0.15);\n",
              "      fill: #174EA6;\n",
              "    }\n",
              "\n",
              "    [theme=dark] .colab-df-convert {\n",
              "      background-color: #3B4455;\n",
              "      fill: #D2E3FC;\n",
              "    }\n",
              "\n",
              "    [theme=dark] .colab-df-convert:hover {\n",
              "      background-color: #434B5C;\n",
              "      box-shadow: 0px 1px 3px 1px rgba(0, 0, 0, 0.15);\n",
              "      filter: drop-shadow(0px 1px 2px rgba(0, 0, 0, 0.3));\n",
              "      fill: #FFFFFF;\n",
              "    }\n",
              "  </style>\n",
              "\n",
              "      <script>\n",
              "        const buttonEl =\n",
              "          document.querySelector('#df-7bf2d3b6-bf24-4cca-ba38-276c2687c481 button.colab-df-convert');\n",
              "        buttonEl.style.display =\n",
              "          google.colab.kernel.accessAllowed ? 'block' : 'none';\n",
              "\n",
              "        async function convertToInteractive(key) {\n",
              "          const element = document.querySelector('#df-7bf2d3b6-bf24-4cca-ba38-276c2687c481');\n",
              "          const dataTable =\n",
              "            await google.colab.kernel.invokeFunction('convertToInteractive',\n",
              "                                                     [key], {});\n",
              "          if (!dataTable) return;\n",
              "\n",
              "          const docLinkHtml = 'Like what you see? Visit the ' +\n",
              "            '<a target=\"_blank\" href=https://colab.research.google.com/notebooks/data_table.ipynb>data table notebook</a>'\n",
              "            + ' to learn more about interactive tables.';\n",
              "          element.innerHTML = '';\n",
              "          dataTable['output_type'] = 'display_data';\n",
              "          await google.colab.output.renderOutput(dataTable, element);\n",
              "          const docLink = document.createElement('div');\n",
              "          docLink.innerHTML = docLinkHtml;\n",
              "          element.appendChild(docLink);\n",
              "        }\n",
              "      </script>\n",
              "    </div>\n",
              "  </div>\n",
              "  "
            ],
            "text/plain": [
              "                     App  ... Sentiment_Subjectivity\n",
              "0  10 Best Foods for You  ...               0.533333\n",
              "1  10 Best Foods for You  ...               0.288462\n",
              "2  10 Best Foods for You  ...                    NaN\n",
              "3  10 Best Foods for You  ...               0.875000\n",
              "4  10 Best Foods for You  ...               0.300000\n",
              "\n",
              "[5 rows x 5 columns]"
            ]
          },
          "metadata": {},
          "execution_count": 10
        }
      ]
    },
    {
      "cell_type": "markdown",
      "source": [
        "**Let see how many records are present in our dataset and also the number of features each record have**"
      ],
      "metadata": {
        "id": "beOTgB3jOBGb"
      }
    },
    {
      "cell_type": "code",
      "source": [
        "print(f'No of Records present in user review dataset are {user_review_df.shape[0]}')\n",
        "print(f'No of features each record have is {user_review_df.shape[1]}')"
      ],
      "metadata": {
        "colab": {
          "base_uri": "https://localhost:8080/"
        },
        "id": "YpNo6cQEOWuw",
        "outputId": "6e907aa1-4b02-4885-f7d7-35aaaf769da2"
      },
      "execution_count": 11,
      "outputs": [
        {
          "output_type": "stream",
          "name": "stdout",
          "text": [
            "No of Records present in user review dataset are 64295\n",
            "No of features each record have is 5\n"
          ]
        }
      ]
    },
    {
      "cell_type": "markdown",
      "source": [
        "**Lets go through each of the features and see what it tell us**"
      ],
      "metadata": {
        "id": "U7rfylnnO2mr"
      }
    },
    {
      "cell_type": "code",
      "source": [
        "user_review_df.info()"
      ],
      "metadata": {
        "colab": {
          "base_uri": "https://localhost:8080/"
        },
        "id": "uT-Br7q6PC1z",
        "outputId": "b49ad05d-dff6-422c-e043-46fc517b46cb"
      },
      "execution_count": 12,
      "outputs": [
        {
          "output_type": "stream",
          "name": "stdout",
          "text": [
            "<class 'pandas.core.frame.DataFrame'>\n",
            "RangeIndex: 64295 entries, 0 to 64294\n",
            "Data columns (total 5 columns):\n",
            " #   Column                  Non-Null Count  Dtype  \n",
            "---  ------                  --------------  -----  \n",
            " 0   App                     64295 non-null  object \n",
            " 1   Translated_Review       37427 non-null  object \n",
            " 2   Sentiment               37432 non-null  object \n",
            " 3   Sentiment_Polarity      37432 non-null  float64\n",
            " 4   Sentiment_Subjectivity  37432 non-null  float64\n",
            "dtypes: float64(2), object(3)\n",
            "memory usage: 2.5+ MB\n"
          ]
        }
      ]
    },
    {
      "cell_type": "markdown",
      "source": [
        "So Basically we have five features in this dataset which are as follows:\n",
        "\n",
        "\n",
        "\n",
        "\n",
        "*   App - It tells us about the name of the application.\n",
        "*   Translated_Review - It tells us about what the users feedback is about the application.\n",
        "*   Sentiment - It tells us about a view or opinion of the user w.r.t. the application.\n",
        "*   Sentiment_Polarity - Sentiment polarity for an element defines the orientation of the expressed sentiment, i.e., it determines if the text expresses the positive, negative or neutral sentiment of the user about the application.\n",
        "*   Sentiment_Subjectivity - It refers to the text that contains text which is usually expressed by a human having typical moods, emotions, and feelings. Mostly it is a public opinion and not a factual information.\n",
        "\n",
        "\n",
        "\n"
      ],
      "metadata": {
        "id": "yEPjk_LoPLhd"
      }
    },
    {
      "cell_type": "code",
      "source": [
        "def UR_info():\n",
        "  info = pd.DataFrame(index=user_review_df.columns)\n",
        "  info['dtype'] = user_review_df.dtypes\n",
        "  info['Unique'] = user_review_df.nunique()\n",
        "  info['Num_ofNullValues'] = user_review_df.isnull().sum()\n",
        "  info['Num_nonNullValues'] = user_review_df.count()\n",
        "  info['percent_ofNullValues'] = info['Num_ofNullValues']/len(user_review_df) * 100\n",
        "  return info\n",
        "UR_info()"
      ],
      "metadata": {
        "colab": {
          "base_uri": "https://localhost:8080/",
          "height": 206
        },
        "id": "wrmxAczBPpd7",
        "outputId": "171c1381-24c6-47b0-cecd-8bc4d00016fe"
      },
      "execution_count": 13,
      "outputs": [
        {
          "output_type": "execute_result",
          "data": {
            "text/html": [
              "\n",
              "  <div id=\"df-8a944b05-6d27-449f-ab1c-064202f9a333\">\n",
              "    <div class=\"colab-df-container\">\n",
              "      <div>\n",
              "<style scoped>\n",
              "    .dataframe tbody tr th:only-of-type {\n",
              "        vertical-align: middle;\n",
              "    }\n",
              "\n",
              "    .dataframe tbody tr th {\n",
              "        vertical-align: top;\n",
              "    }\n",
              "\n",
              "    .dataframe thead th {\n",
              "        text-align: right;\n",
              "    }\n",
              "</style>\n",
              "<table border=\"1\" class=\"dataframe\">\n",
              "  <thead>\n",
              "    <tr style=\"text-align: right;\">\n",
              "      <th></th>\n",
              "      <th>dtype</th>\n",
              "      <th>Unique</th>\n",
              "      <th>Num_ofNullValues</th>\n",
              "      <th>Num_nonNullValues</th>\n",
              "      <th>percent_ofNullValues</th>\n",
              "    </tr>\n",
              "  </thead>\n",
              "  <tbody>\n",
              "    <tr>\n",
              "      <th>App</th>\n",
              "      <td>object</td>\n",
              "      <td>1074</td>\n",
              "      <td>0</td>\n",
              "      <td>64295</td>\n",
              "      <td>0.000000</td>\n",
              "    </tr>\n",
              "    <tr>\n",
              "      <th>Translated_Review</th>\n",
              "      <td>object</td>\n",
              "      <td>27994</td>\n",
              "      <td>26868</td>\n",
              "      <td>37427</td>\n",
              "      <td>41.788631</td>\n",
              "    </tr>\n",
              "    <tr>\n",
              "      <th>Sentiment</th>\n",
              "      <td>object</td>\n",
              "      <td>3</td>\n",
              "      <td>26863</td>\n",
              "      <td>37432</td>\n",
              "      <td>41.780854</td>\n",
              "    </tr>\n",
              "    <tr>\n",
              "      <th>Sentiment_Polarity</th>\n",
              "      <td>float64</td>\n",
              "      <td>6195</td>\n",
              "      <td>26863</td>\n",
              "      <td>37432</td>\n",
              "      <td>41.780854</td>\n",
              "    </tr>\n",
              "    <tr>\n",
              "      <th>Sentiment_Subjectivity</th>\n",
              "      <td>float64</td>\n",
              "      <td>4530</td>\n",
              "      <td>26863</td>\n",
              "      <td>37432</td>\n",
              "      <td>41.780854</td>\n",
              "    </tr>\n",
              "  </tbody>\n",
              "</table>\n",
              "</div>\n",
              "      <button class=\"colab-df-convert\" onclick=\"convertToInteractive('df-8a944b05-6d27-449f-ab1c-064202f9a333')\"\n",
              "              title=\"Convert this dataframe to an interactive table.\"\n",
              "              style=\"display:none;\">\n",
              "        \n",
              "  <svg xmlns=\"http://www.w3.org/2000/svg\" height=\"24px\"viewBox=\"0 0 24 24\"\n",
              "       width=\"24px\">\n",
              "    <path d=\"M0 0h24v24H0V0z\" fill=\"none\"/>\n",
              "    <path d=\"M18.56 5.44l.94 2.06.94-2.06 2.06-.94-2.06-.94-.94-2.06-.94 2.06-2.06.94zm-11 1L8.5 8.5l.94-2.06 2.06-.94-2.06-.94L8.5 2.5l-.94 2.06-2.06.94zm10 10l.94 2.06.94-2.06 2.06-.94-2.06-.94-.94-2.06-.94 2.06-2.06.94z\"/><path d=\"M17.41 7.96l-1.37-1.37c-.4-.4-.92-.59-1.43-.59-.52 0-1.04.2-1.43.59L10.3 9.45l-7.72 7.72c-.78.78-.78 2.05 0 2.83L4 21.41c.39.39.9.59 1.41.59.51 0 1.02-.2 1.41-.59l7.78-7.78 2.81-2.81c.8-.78.8-2.07 0-2.86zM5.41 20L4 18.59l7.72-7.72 1.47 1.35L5.41 20z\"/>\n",
              "  </svg>\n",
              "      </button>\n",
              "      \n",
              "  <style>\n",
              "    .colab-df-container {\n",
              "      display:flex;\n",
              "      flex-wrap:wrap;\n",
              "      gap: 12px;\n",
              "    }\n",
              "\n",
              "    .colab-df-convert {\n",
              "      background-color: #E8F0FE;\n",
              "      border: none;\n",
              "      border-radius: 50%;\n",
              "      cursor: pointer;\n",
              "      display: none;\n",
              "      fill: #1967D2;\n",
              "      height: 32px;\n",
              "      padding: 0 0 0 0;\n",
              "      width: 32px;\n",
              "    }\n",
              "\n",
              "    .colab-df-convert:hover {\n",
              "      background-color: #E2EBFA;\n",
              "      box-shadow: 0px 1px 2px rgba(60, 64, 67, 0.3), 0px 1px 3px 1px rgba(60, 64, 67, 0.15);\n",
              "      fill: #174EA6;\n",
              "    }\n",
              "\n",
              "    [theme=dark] .colab-df-convert {\n",
              "      background-color: #3B4455;\n",
              "      fill: #D2E3FC;\n",
              "    }\n",
              "\n",
              "    [theme=dark] .colab-df-convert:hover {\n",
              "      background-color: #434B5C;\n",
              "      box-shadow: 0px 1px 3px 1px rgba(0, 0, 0, 0.15);\n",
              "      filter: drop-shadow(0px 1px 2px rgba(0, 0, 0, 0.3));\n",
              "      fill: #FFFFFF;\n",
              "    }\n",
              "  </style>\n",
              "\n",
              "      <script>\n",
              "        const buttonEl =\n",
              "          document.querySelector('#df-8a944b05-6d27-449f-ab1c-064202f9a333 button.colab-df-convert');\n",
              "        buttonEl.style.display =\n",
              "          google.colab.kernel.accessAllowed ? 'block' : 'none';\n",
              "\n",
              "        async function convertToInteractive(key) {\n",
              "          const element = document.querySelector('#df-8a944b05-6d27-449f-ab1c-064202f9a333');\n",
              "          const dataTable =\n",
              "            await google.colab.kernel.invokeFunction('convertToInteractive',\n",
              "                                                     [key], {});\n",
              "          if (!dataTable) return;\n",
              "\n",
              "          const docLinkHtml = 'Like what you see? Visit the ' +\n",
              "            '<a target=\"_blank\" href=https://colab.research.google.com/notebooks/data_table.ipynb>data table notebook</a>'\n",
              "            + ' to learn more about interactive tables.';\n",
              "          element.innerHTML = '';\n",
              "          dataTable['output_type'] = 'display_data';\n",
              "          await google.colab.output.renderOutput(dataTable, element);\n",
              "          const docLink = document.createElement('div');\n",
              "          docLink.innerHTML = docLinkHtml;\n",
              "          element.appendChild(docLink);\n",
              "        }\n",
              "      </script>\n",
              "    </div>\n",
              "  </div>\n",
              "  "
            ],
            "text/plain": [
              "                          dtype  ...  percent_ofNullValues\n",
              "App                      object  ...              0.000000\n",
              "Translated_Review        object  ...             41.788631\n",
              "Sentiment                object  ...             41.780854\n",
              "Sentiment_Polarity      float64  ...             41.780854\n",
              "Sentiment_Subjectivity  float64  ...             41.780854\n",
              "\n",
              "[5 rows x 5 columns]"
            ]
          },
          "metadata": {},
          "execution_count": 13
        }
      ]
    },
    {
      "cell_type": "markdown",
      "source": [
        "#### **Now its time to start doing some cleaning operation**\n",
        "We will start with handling the **missing values** present in our app dataset"
      ],
      "metadata": {
        "id": "nixQOmEi9wWg"
      }
    },
    {
      "cell_type": "code",
      "source": [
        "app_df_na = app_df.isnull().sum()/len(app_df)*100\n",
        "app_df_na = app_df_na.drop(app_df_na[app_df_na == 0].index,axis=0).reset_index()\n",
        "app_df_na.columns = ['Feature Name','Missing Ratio']\n",
        "app_df_na"
      ],
      "metadata": {
        "colab": {
          "base_uri": "https://localhost:8080/",
          "height": 206
        },
        "id": "25XmFfOV-OJY",
        "outputId": "afa29ea6-4949-4d25-de72-9655325139f7"
      },
      "execution_count": 21,
      "outputs": [
        {
          "output_type": "execute_result",
          "data": {
            "text/html": [
              "\n",
              "  <div id=\"df-a830bf32-1466-475a-824a-d2c384412cb3\">\n",
              "    <div class=\"colab-df-container\">\n",
              "      <div>\n",
              "<style scoped>\n",
              "    .dataframe tbody tr th:only-of-type {\n",
              "        vertical-align: middle;\n",
              "    }\n",
              "\n",
              "    .dataframe tbody tr th {\n",
              "        vertical-align: top;\n",
              "    }\n",
              "\n",
              "    .dataframe thead th {\n",
              "        text-align: right;\n",
              "    }\n",
              "</style>\n",
              "<table border=\"1\" class=\"dataframe\">\n",
              "  <thead>\n",
              "    <tr style=\"text-align: right;\">\n",
              "      <th></th>\n",
              "      <th>Feature Name</th>\n",
              "      <th>Missing Ratio</th>\n",
              "    </tr>\n",
              "  </thead>\n",
              "  <tbody>\n",
              "    <tr>\n",
              "      <th>0</th>\n",
              "      <td>Rating</td>\n",
              "      <td>13.596532</td>\n",
              "    </tr>\n",
              "    <tr>\n",
              "      <th>1</th>\n",
              "      <td>Type</td>\n",
              "      <td>0.009224</td>\n",
              "    </tr>\n",
              "    <tr>\n",
              "      <th>2</th>\n",
              "      <td>Content Rating</td>\n",
              "      <td>0.009224</td>\n",
              "    </tr>\n",
              "    <tr>\n",
              "      <th>3</th>\n",
              "      <td>Current Ver</td>\n",
              "      <td>0.073794</td>\n",
              "    </tr>\n",
              "    <tr>\n",
              "      <th>4</th>\n",
              "      <td>Android Ver</td>\n",
              "      <td>0.027673</td>\n",
              "    </tr>\n",
              "  </tbody>\n",
              "</table>\n",
              "</div>\n",
              "      <button class=\"colab-df-convert\" onclick=\"convertToInteractive('df-a830bf32-1466-475a-824a-d2c384412cb3')\"\n",
              "              title=\"Convert this dataframe to an interactive table.\"\n",
              "              style=\"display:none;\">\n",
              "        \n",
              "  <svg xmlns=\"http://www.w3.org/2000/svg\" height=\"24px\"viewBox=\"0 0 24 24\"\n",
              "       width=\"24px\">\n",
              "    <path d=\"M0 0h24v24H0V0z\" fill=\"none\"/>\n",
              "    <path d=\"M18.56 5.44l.94 2.06.94-2.06 2.06-.94-2.06-.94-.94-2.06-.94 2.06-2.06.94zm-11 1L8.5 8.5l.94-2.06 2.06-.94-2.06-.94L8.5 2.5l-.94 2.06-2.06.94zm10 10l.94 2.06.94-2.06 2.06-.94-2.06-.94-.94-2.06-.94 2.06-2.06.94z\"/><path d=\"M17.41 7.96l-1.37-1.37c-.4-.4-.92-.59-1.43-.59-.52 0-1.04.2-1.43.59L10.3 9.45l-7.72 7.72c-.78.78-.78 2.05 0 2.83L4 21.41c.39.39.9.59 1.41.59.51 0 1.02-.2 1.41-.59l7.78-7.78 2.81-2.81c.8-.78.8-2.07 0-2.86zM5.41 20L4 18.59l7.72-7.72 1.47 1.35L5.41 20z\"/>\n",
              "  </svg>\n",
              "      </button>\n",
              "      \n",
              "  <style>\n",
              "    .colab-df-container {\n",
              "      display:flex;\n",
              "      flex-wrap:wrap;\n",
              "      gap: 12px;\n",
              "    }\n",
              "\n",
              "    .colab-df-convert {\n",
              "      background-color: #E8F0FE;\n",
              "      border: none;\n",
              "      border-radius: 50%;\n",
              "      cursor: pointer;\n",
              "      display: none;\n",
              "      fill: #1967D2;\n",
              "      height: 32px;\n",
              "      padding: 0 0 0 0;\n",
              "      width: 32px;\n",
              "    }\n",
              "\n",
              "    .colab-df-convert:hover {\n",
              "      background-color: #E2EBFA;\n",
              "      box-shadow: 0px 1px 2px rgba(60, 64, 67, 0.3), 0px 1px 3px 1px rgba(60, 64, 67, 0.15);\n",
              "      fill: #174EA6;\n",
              "    }\n",
              "\n",
              "    [theme=dark] .colab-df-convert {\n",
              "      background-color: #3B4455;\n",
              "      fill: #D2E3FC;\n",
              "    }\n",
              "\n",
              "    [theme=dark] .colab-df-convert:hover {\n",
              "      background-color: #434B5C;\n",
              "      box-shadow: 0px 1px 3px 1px rgba(0, 0, 0, 0.15);\n",
              "      filter: drop-shadow(0px 1px 2px rgba(0, 0, 0, 0.3));\n",
              "      fill: #FFFFFF;\n",
              "    }\n",
              "  </style>\n",
              "\n",
              "      <script>\n",
              "        const buttonEl =\n",
              "          document.querySelector('#df-a830bf32-1466-475a-824a-d2c384412cb3 button.colab-df-convert');\n",
              "        buttonEl.style.display =\n",
              "          google.colab.kernel.accessAllowed ? 'block' : 'none';\n",
              "\n",
              "        async function convertToInteractive(key) {\n",
              "          const element = document.querySelector('#df-a830bf32-1466-475a-824a-d2c384412cb3');\n",
              "          const dataTable =\n",
              "            await google.colab.kernel.invokeFunction('convertToInteractive',\n",
              "                                                     [key], {});\n",
              "          if (!dataTable) return;\n",
              "\n",
              "          const docLinkHtml = 'Like what you see? Visit the ' +\n",
              "            '<a target=\"_blank\" href=https://colab.research.google.com/notebooks/data_table.ipynb>data table notebook</a>'\n",
              "            + ' to learn more about interactive tables.';\n",
              "          element.innerHTML = '';\n",
              "          dataTable['output_type'] = 'display_data';\n",
              "          await google.colab.output.renderOutput(dataTable, element);\n",
              "          const docLink = document.createElement('div');\n",
              "          docLink.innerHTML = docLinkHtml;\n",
              "          element.appendChild(docLink);\n",
              "        }\n",
              "      </script>\n",
              "    </div>\n",
              "  </div>\n",
              "  "
            ],
            "text/plain": [
              "     Feature Name  Missing Ratio\n",
              "0          Rating      13.596532\n",
              "1            Type       0.009224\n",
              "2  Content Rating       0.009224\n",
              "3     Current Ver       0.073794\n",
              "4     Android Ver       0.027673"
            ]
          },
          "metadata": {},
          "execution_count": 21
        }
      ]
    },
    {
      "cell_type": "markdown",
      "source": [
        "I will **drop all the null values present the Rating column** because filling almost 14% of data with some alternative value could lead us to a wrong analysis and i think rating is very important feature present in this dataset so i will not going to manipulate it."
      ],
      "metadata": {
        "id": "M-y3uSEZBuDz"
      }
    },
    {
      "cell_type": "code",
      "source": [
        "app_df.dropna(subset=['Rating'],inplace=True)"
      ],
      "metadata": {
        "id": "UJN76s_vAUK2"
      },
      "execution_count": 22,
      "outputs": []
    },
    {
      "cell_type": "code",
      "source": [
        "app_df_na = app_df.isnull().sum()/len(app_df)*100\n",
        "app_df_na = app_df_na.drop(app_df_na[app_df_na == 0].index,axis=0).reset_index()\n",
        "app_df_na.columns = ['Feature Name','Missing Ratio']\n",
        "app_df_na"
      ],
      "metadata": {
        "colab": {
          "base_uri": "https://localhost:8080/",
          "height": 143
        },
        "id": "5a1czkaKDfnc",
        "outputId": "96d22adc-cf09-4c03-f7de-7417ebb30253"
      },
      "execution_count": 23,
      "outputs": [
        {
          "output_type": "execute_result",
          "data": {
            "text/html": [
              "\n",
              "  <div id=\"df-77afbf8a-1c4b-4d70-8d0a-3fce9bc607fe\">\n",
              "    <div class=\"colab-df-container\">\n",
              "      <div>\n",
              "<style scoped>\n",
              "    .dataframe tbody tr th:only-of-type {\n",
              "        vertical-align: middle;\n",
              "    }\n",
              "\n",
              "    .dataframe tbody tr th {\n",
              "        vertical-align: top;\n",
              "    }\n",
              "\n",
              "    .dataframe thead th {\n",
              "        text-align: right;\n",
              "    }\n",
              "</style>\n",
              "<table border=\"1\" class=\"dataframe\">\n",
              "  <thead>\n",
              "    <tr style=\"text-align: right;\">\n",
              "      <th></th>\n",
              "      <th>Feature Name</th>\n",
              "      <th>Missing Ratio</th>\n",
              "    </tr>\n",
              "  </thead>\n",
              "  <tbody>\n",
              "    <tr>\n",
              "      <th>0</th>\n",
              "      <td>Content Rating</td>\n",
              "      <td>0.010676</td>\n",
              "    </tr>\n",
              "    <tr>\n",
              "      <th>1</th>\n",
              "      <td>Current Ver</td>\n",
              "      <td>0.042703</td>\n",
              "    </tr>\n",
              "    <tr>\n",
              "      <th>2</th>\n",
              "      <td>Android Ver</td>\n",
              "      <td>0.032027</td>\n",
              "    </tr>\n",
              "  </tbody>\n",
              "</table>\n",
              "</div>\n",
              "      <button class=\"colab-df-convert\" onclick=\"convertToInteractive('df-77afbf8a-1c4b-4d70-8d0a-3fce9bc607fe')\"\n",
              "              title=\"Convert this dataframe to an interactive table.\"\n",
              "              style=\"display:none;\">\n",
              "        \n",
              "  <svg xmlns=\"http://www.w3.org/2000/svg\" height=\"24px\"viewBox=\"0 0 24 24\"\n",
              "       width=\"24px\">\n",
              "    <path d=\"M0 0h24v24H0V0z\" fill=\"none\"/>\n",
              "    <path d=\"M18.56 5.44l.94 2.06.94-2.06 2.06-.94-2.06-.94-.94-2.06-.94 2.06-2.06.94zm-11 1L8.5 8.5l.94-2.06 2.06-.94-2.06-.94L8.5 2.5l-.94 2.06-2.06.94zm10 10l.94 2.06.94-2.06 2.06-.94-2.06-.94-.94-2.06-.94 2.06-2.06.94z\"/><path d=\"M17.41 7.96l-1.37-1.37c-.4-.4-.92-.59-1.43-.59-.52 0-1.04.2-1.43.59L10.3 9.45l-7.72 7.72c-.78.78-.78 2.05 0 2.83L4 21.41c.39.39.9.59 1.41.59.51 0 1.02-.2 1.41-.59l7.78-7.78 2.81-2.81c.8-.78.8-2.07 0-2.86zM5.41 20L4 18.59l7.72-7.72 1.47 1.35L5.41 20z\"/>\n",
              "  </svg>\n",
              "      </button>\n",
              "      \n",
              "  <style>\n",
              "    .colab-df-container {\n",
              "      display:flex;\n",
              "      flex-wrap:wrap;\n",
              "      gap: 12px;\n",
              "    }\n",
              "\n",
              "    .colab-df-convert {\n",
              "      background-color: #E8F0FE;\n",
              "      border: none;\n",
              "      border-radius: 50%;\n",
              "      cursor: pointer;\n",
              "      display: none;\n",
              "      fill: #1967D2;\n",
              "      height: 32px;\n",
              "      padding: 0 0 0 0;\n",
              "      width: 32px;\n",
              "    }\n",
              "\n",
              "    .colab-df-convert:hover {\n",
              "      background-color: #E2EBFA;\n",
              "      box-shadow: 0px 1px 2px rgba(60, 64, 67, 0.3), 0px 1px 3px 1px rgba(60, 64, 67, 0.15);\n",
              "      fill: #174EA6;\n",
              "    }\n",
              "\n",
              "    [theme=dark] .colab-df-convert {\n",
              "      background-color: #3B4455;\n",
              "      fill: #D2E3FC;\n",
              "    }\n",
              "\n",
              "    [theme=dark] .colab-df-convert:hover {\n",
              "      background-color: #434B5C;\n",
              "      box-shadow: 0px 1px 3px 1px rgba(0, 0, 0, 0.15);\n",
              "      filter: drop-shadow(0px 1px 2px rgba(0, 0, 0, 0.3));\n",
              "      fill: #FFFFFF;\n",
              "    }\n",
              "  </style>\n",
              "\n",
              "      <script>\n",
              "        const buttonEl =\n",
              "          document.querySelector('#df-77afbf8a-1c4b-4d70-8d0a-3fce9bc607fe button.colab-df-convert');\n",
              "        buttonEl.style.display =\n",
              "          google.colab.kernel.accessAllowed ? 'block' : 'none';\n",
              "\n",
              "        async function convertToInteractive(key) {\n",
              "          const element = document.querySelector('#df-77afbf8a-1c4b-4d70-8d0a-3fce9bc607fe');\n",
              "          const dataTable =\n",
              "            await google.colab.kernel.invokeFunction('convertToInteractive',\n",
              "                                                     [key], {});\n",
              "          if (!dataTable) return;\n",
              "\n",
              "          const docLinkHtml = 'Like what you see? Visit the ' +\n",
              "            '<a target=\"_blank\" href=https://colab.research.google.com/notebooks/data_table.ipynb>data table notebook</a>'\n",
              "            + ' to learn more about interactive tables.';\n",
              "          element.innerHTML = '';\n",
              "          dataTable['output_type'] = 'display_data';\n",
              "          await google.colab.output.renderOutput(dataTable, element);\n",
              "          const docLink = document.createElement('div');\n",
              "          docLink.innerHTML = docLinkHtml;\n",
              "          element.appendChild(docLink);\n",
              "        }\n",
              "      </script>\n",
              "    </div>\n",
              "  </div>\n",
              "  "
            ],
            "text/plain": [
              "     Feature Name  Missing Ratio\n",
              "0  Content Rating       0.010676\n",
              "1     Current Ver       0.042703\n",
              "2     Android Ver       0.032027"
            ]
          },
          "metadata": {},
          "execution_count": 23
        }
      ]
    },
    {
      "cell_type": "markdown",
      "source": [
        "Ratio of Missing value for all other feature is almost negligible so just fill them with their mode"
      ],
      "metadata": {
        "id": "xG3rNSqQDn7x"
      }
    },
    {
      "cell_type": "code",
      "source": [
        "app_df['Current Ver'] = app_df['Current Ver'].fillna(app_df['Current Ver'].mode())\n",
        "app_df['Android Ver'] = app_df['Android Ver'].fillna(app_df['Android Ver'].mode())\n",
        "app_df['Content Rating'] = app_df['Content Rating'].fillna(app_df['Content Rating'].mode())\n"
      ],
      "metadata": {
        "id": "4kh4KXDYC0_w"
      },
      "execution_count": 24,
      "outputs": []
    },
    {
      "cell_type": "markdown",
      "source": [
        "**Duplicate Values**\n",
        "Now Let See how many duplicate value are present are in the App Column and drop those records as these are added more than one time by mistake. Means its just like having two or more record for the same app. So lets just delete them\n"
      ],
      "metadata": {
        "id": "oh1H8N7KGxMQ"
      }
    },
    {
      "cell_type": "code",
      "source": [
        "duplicate_app = len(app_df)-len(pd.unique(app_df['App']))\n",
        "print(f'Number of duplicate value present in the app column is {duplicate_app}')"
      ],
      "metadata": {
        "colab": {
          "base_uri": "https://localhost:8080/"
        },
        "id": "Zlnau87qHFY1",
        "outputId": "4d5b96d3-f7f0-4875-84eb-156db093439f"
      },
      "execution_count": 27,
      "outputs": [
        {
          "output_type": "stream",
          "name": "stdout",
          "text": [
            "Number of duplicate value present in the app column is 1170\n"
          ]
        }
      ]
    },
    {
      "cell_type": "code",
      "source": [
        "app_df = app_df.drop_duplicates(subset=['App'])"
      ],
      "metadata": {
        "id": "tDircNU6JJyy"
      },
      "execution_count": 28,
      "outputs": []
    },
    {
      "cell_type": "markdown",
      "source": [
        "Now let see how many records are present in the dataset after removing the duplicates and dropping the null values\n"
      ],
      "metadata": {
        "id": "9pSbbS8iJfCZ"
      }
    },
    {
      "cell_type": "code",
      "source": [
        "print(f'No. of records present in our dataset is: {app_df.shape[0]}')"
      ],
      "metadata": {
        "colab": {
          "base_uri": "https://localhost:8080/"
        },
        "id": "nB3sTKNBJrjK",
        "outputId": "dd1e03ef-61ae-45c5-8de5-169f730ee495"
      },
      "execution_count": 29,
      "outputs": [
        {
          "output_type": "stream",
          "name": "stdout",
          "text": [
            "No. of records present in our dataset is: 8197\n"
          ]
        }
      ]
    },
    {
      "cell_type": "markdown",
      "source": [
        ""
      ],
      "metadata": {
        "id": "HRSbKe2bIg1O"
      }
    },
    {
      "cell_type": "code",
      "source": [
        ""
      ],
      "metadata": {
        "id": "fgd-NYVPF76O"
      },
      "execution_count": null,
      "outputs": []
    }
  ]
}